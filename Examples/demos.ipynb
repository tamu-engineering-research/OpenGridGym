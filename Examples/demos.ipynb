{
 "cells": [
  {
   "cell_type": "markdown",
   "metadata": {
    "heading_collapsed": "true",
    "tags": []
   },
   "source": [
    "# Import modules"
   ]
  },
  {
   "cell_type": "code",
   "execution_count": 1,
   "metadata": {},
   "outputs": [],
   "source": [
    "import os, sys\n",
    "import numpy as np\n",
    "import pandas as pd\n",
    "import matplotlib.pyplot as plt"
   ]
  },
  {
   "cell_type": "code",
   "execution_count": 2,
   "metadata": {},
   "outputs": [],
   "source": [
    "for folder in ('dss_tools', 'dss_grid_examples', 'Environment', 'Grids', 'Markets', 'Agents', 'utils'):\n",
    "    \n",
    "    if folder not in sys.path:\n",
    "        sys.path.insert(0, folder)"
   ]
  },
  {
   "cell_type": "code",
   "execution_count": 3,
   "metadata": {},
   "outputs": [],
   "source": [
    "from opendss_tools import DSS, DSS_from_docstring, DSS_from_empty\n",
    "\n",
    "from Environment import Environment\n",
    "from DoNothingAgent import DoNothingAgent\n",
    "from DoNothingMarket import DoNothingMarket\n",
    "from DoNothingGrid import DoNothingGrid"
   ]
  },
  {
   "cell_type": "markdown",
   "metadata": {
    "heading_collapsed": "true",
    "tags": []
   },
   "source": [
    "# Test DSS interface with IEEE 34 bus"
   ]
  },
  {
   "cell_type": "code",
   "execution_count": 4,
   "metadata": {},
   "outputs": [
    {
     "name": "stdout",
     "output_type": "stream",
     "text": [
      "37 Buses\n",
      "95 Nodes\n",
      "Voltage Bases (kV L-L):\t 69.0, 24.9, 4.16, 0.48\n",
      "Circuit Elements:\n",
      "\t\t1 Vsource\n",
      "\t\t8 Transformers\n",
      "\t\t32 Lines\n",
      "\t\t2 Capacitors\n",
      "\t\t6 RegControls\n",
      "\t\t68 Loads\n"
     ]
    }
   ],
   "source": [
    "dss_path = r'dss_grid_examples\\34Bus\\ieee34Mod1.dss'\n",
    "xy_path = r'dss_grid_examples\\34Bus\\IEEE34_BusXY.csv'\n",
    "\n",
    "dss = DSS.open_case_from_file(dss_path)\n",
    "\n",
    "dss.command(f\"BusCoords [{xy_path}]\")\n",
    "\n",
    "dss.summarize()"
   ]
  },
  {
   "cell_type": "code",
   "execution_count": 5,
   "metadata": {},
   "outputs": [
    {
     "data": {
      "text/html": [
       "<div>\n",
       "<style scoped>\n",
       "    .dataframe tbody tr th:only-of-type {\n",
       "        vertical-align: middle;\n",
       "    }\n",
       "\n",
       "    .dataframe tbody tr th {\n",
       "        vertical-align: top;\n",
       "    }\n",
       "\n",
       "    .dataframe thead th {\n",
       "        text-align: right;\n",
       "    }\n",
       "</style>\n",
       "<table border=\"1\" class=\"dataframe\">\n",
       "  <thead>\n",
       "    <tr style=\"text-align: right;\">\n",
       "      <th></th>\n",
       "      <th>x</th>\n",
       "      <th>y</th>\n",
       "      <th>VmagPu</th>\n",
       "    </tr>\n",
       "  </thead>\n",
       "  <tbody>\n",
       "    <tr>\n",
       "      <th>sourcebus</th>\n",
       "      <td>-300.0</td>\n",
       "      <td>0.0</td>\n",
       "      <td>1.049996</td>\n",
       "    </tr>\n",
       "    <tr>\n",
       "      <th>800</th>\n",
       "      <td>0.0</td>\n",
       "      <td>0.0</td>\n",
       "      <td>1.049994</td>\n",
       "    </tr>\n",
       "    <tr>\n",
       "      <th>802</th>\n",
       "      <td>400.0</td>\n",
       "      <td>0.0</td>\n",
       "      <td>1.048111</td>\n",
       "    </tr>\n",
       "    <tr>\n",
       "      <th>806</th>\n",
       "      <td>700.0</td>\n",
       "      <td>0.0</td>\n",
       "      <td>1.046870</td>\n",
       "    </tr>\n",
       "    <tr>\n",
       "      <th>808</th>\n",
       "      <td>1000.0</td>\n",
       "      <td>0.0</td>\n",
       "      <td>1.024143</td>\n",
       "    </tr>\n",
       "  </tbody>\n",
       "</table>\n",
       "</div>"
      ],
      "text/plain": [
       "                x    y    VmagPu\n",
       "sourcebus  -300.0  0.0  1.049996\n",
       "800           0.0  0.0  1.049994\n",
       "802         400.0  0.0  1.048111\n",
       "806         700.0  0.0  1.046870\n",
       "808        1000.0  0.0  1.024143"
      ]
     },
     "execution_count": 5,
     "metadata": {},
     "output_type": "execute_result"
    }
   ],
   "source": [
    "dss.get_bus_df().head()"
   ]
  },
  {
   "cell_type": "markdown",
   "metadata": {
    "heading_collapsed": "true",
    "tags": []
   },
   "source": [
    "# DoNothing"
   ]
  },
  {
   "cell_type": "code",
   "execution_count": 6,
   "metadata": {},
   "outputs": [],
   "source": [
    "grid = DoNothingGrid()\n",
    "\n",
    "market = DoNothingMarket()\n",
    "\n",
    "agents = [DoNothingAgent(), DoNothingAgent(), DoNothingAgent()]\n",
    "\n",
    "env = Environment(grid=grid, market=market, agents=agents)"
   ]
  },
  {
   "cell_type": "code",
   "execution_count": 7,
   "metadata": {},
   "outputs": [
    {
     "name": "stderr",
     "output_type": "stream",
     "text": [
      "100%|██████████████████████████████████████████████████████████████████████████████████| 5/5 [00:00<00:00, 5009.92it/s]\n"
     ]
    }
   ],
   "source": [
    "env.reset()\n",
    "for t in env.iterate(5):\n",
    "    pass"
   ]
  },
  {
   "cell_type": "markdown",
   "metadata": {
    "heading_collapsed": "true",
    "tags": []
   },
   "source": [
    "# Demo Grid only"
   ]
  },
  {
   "cell_type": "markdown",
   "metadata": {},
   "source": [
    "In this demo, the grid randomly fluctuates load consumption and records bus voltages at each step."
   ]
  },
  {
   "cell_type": "code",
   "execution_count": 8,
   "metadata": {},
   "outputs": [],
   "source": [
    "from BaseGrid import BaseGrid\n",
    "\n",
    "class DemoGrid(BaseGrid):\n",
    "    def __init__(self, dss_path, xy_path=None, load_std=0.2):\n",
    "        self.dss_path = dss_path\n",
    "        self.xy_path = xy_path\n",
    "        \n",
    "        self.load_std = load_std\n",
    "        \n",
    "        self.reset()\n",
    "        \n",
    "    def reset(self):\n",
    "        self.dss = DSS.open_case_from_file(self.dss_path)\n",
    "        if self.xy_path is not None:\n",
    "            self.dss.command(f\"BusCoords [{self.xy_path}]\")\n",
    "        \n",
    "        self.t = -1\n",
    "        self.voltages = []\n",
    "    \n",
    "    def step(self):\n",
    "        self.randomly_fluctuate_loads()\n",
    "        self.dss.solve_case()\n",
    "        self.record_voltages()\n",
    "        \n",
    "    def randomly_fluctuate_loads(self):\n",
    "        for load in self.dss.Circuit.Loads:\n",
    "            load.kW *= 1 + self.load_std * np.random.randn()\n",
    "            \n",
    "    def record_voltages(self):\n",
    "        v = self.dss.get_bus_df().VmagPu.values\n",
    "        self.voltages.append(v)\n",
    "        \n",
    "    def plot_voltages(self, *plot_args, **plot_kwargs):\n",
    "        plt.plot(self.voltages, *plot_args, **plot_kwargs)\n",
    "        xlim = plt.xlim(0, self.t)\n",
    "        plt.hlines(1.0, *xlim, color='r')\n",
    "        plt.hlines([0.95, 1.05], *xlim, color='r', linestyle='--')\n",
    "        \n",
    "grid = DemoGrid(dss_path, xy_path)"
   ]
  },
  {
   "cell_type": "code",
   "execution_count": 9,
   "metadata": {},
   "outputs": [
    {
     "name": "stderr",
     "output_type": "stream",
     "text": [
      "100%|████████████████████████████████████████████████████████████████████████████████| 96/96 [00:00<00:00, 1007.37it/s]\n"
     ]
    }
   ],
   "source": [
    "env = Environment(grid=grid, market=market, agents=agents)\n",
    "\n",
    "env.reset()\n",
    "for t in env.iterate():\n",
    "    pass"
   ]
  },
  {
   "cell_type": "code",
   "execution_count": 10,
   "metadata": {},
   "outputs": [
    {
     "data": {
      "image/png": "[encoded data removed]",
      "text/plain": [
       "<Figure size 432x288 with 1 Axes>"
      ]
     },
     "metadata": {
      "needs_background": "light"
     },
     "output_type": "display_data"
    }
   ],
   "source": [
    "env.grid.plot_voltages(color='gray', alpha=0.5)"
   ]
  },
  {
   "cell_type": "markdown",
   "metadata": {
    "heading_collapsed": "true",
    "tags": []
   },
   "source": [
    "# Demo Grid & Agent"
   ]
  },
  {
   "cell_type": "markdown",
   "metadata": {},
   "source": [
    "In this demo, the agent responds to local voltages by incrementing/decrementing load"
   ]
  },
  {
   "cell_type": "code",
   "execution_count": 11,
   "metadata": {},
   "outputs": [],
   "source": [
    "from BaseAgent import BaseAgent\n",
    "\n",
    "class DemoAgentVoltageControl(BaseAgent):\n",
    "\n",
    "    def __init__(self, load=None, bus=None):\n",
    "        if load is None or bus is None:\n",
    "            raise ValueError('load and bus must be str, not None.')\n",
    "        \n",
    "        self.load = load\n",
    "        self.bus = bus\n",
    "        self.voltages = []\n",
    "        \n",
    "    def get_voltage(self):\n",
    "        return self.env.grid.dss.get_bus_df().loc[self.bus, 'VmagPu']\n",
    "    \n",
    "    def get_load(self):\n",
    "        load_df = self.env.grid.dss.get_load_df().loc[self.load]\n",
    "        kW, kvar = load_df.kW, load_df.kvar\n",
    "        return kW, kvar\n",
    "    \n",
    "    def increment_load(self, delta_kW=0.0, delta_kvar=0.0):\n",
    "        kW, kvar = self.get_load()\n",
    "        \n",
    "        new_kW = kW + delta_kW\n",
    "        new_kvar = kvar + delta_kvar\n",
    "        \n",
    "        self.env.grid.dss.edit(f'Load.{self.load}', kW=new_kW, kvar=new_kvar)\n",
    "    \n",
    "    def set_market_actions(self):\n",
    "        pass\n",
    "    \n",
    "    def set_grid_actions(self):\n",
    "        \n",
    "        # Simple feedback control\n",
    "        v = self.get_voltage()\n",
    "        self.voltages.append(v)\n",
    "        delta_kW = 3 * (1 - v) / 0.05\n",
    "        delta_kvar = 1 * (1 - v) / 0.05\n",
    "        \n",
    "        # Update load\n",
    "        self.increment_load(delta_kW=delta_kW, delta_kvar=delta_kvar)\n",
    "        \n",
    "agent_grid = DemoAgentVoltageControl(load='s890', bus='890')"
   ]
  },
  {
   "cell_type": "code",
   "execution_count": 12,
   "metadata": {},
   "outputs": [
    {
     "name": "stderr",
     "output_type": "stream",
     "text": [
      "100%|█████████████████████████████████████████████████████████████████████████████████| 96/96 [00:00<00:00, 311.51it/s]\n"
     ]
    }
   ],
   "source": [
    "agents = [agent_grid]\n",
    "grid = DemoGrid(dss_path, xy_path, load_std=0.01)\n",
    "\n",
    "env = Environment(grid=grid, market=market, agents=agents)\n",
    "\n",
    "env.reset()\n",
    "for t in env.iterate():\n",
    "    pass"
   ]
  },
  {
   "cell_type": "code",
   "execution_count": 13,
   "metadata": {},
   "outputs": [
    {
     "data": {
      "image/png": "[encoded data removed]",
      "text/plain": [
       "<Figure size 432x288 with 1 Axes>"
      ]
     },
     "metadata": {
      "needs_background": "light"
     },
     "output_type": "display_data"
    }
   ],
   "source": [
    "plt.plot(agent_grid.voltages, label=\"Agent's Actual Voltages\")\n",
    "plt.hlines(1.0, *plt.xlim(), color='r', label=\"Agent's Reference Voltage\")\n",
    "plt.legend();"
   ]
  },
  {
   "cell_type": "markdown",
   "metadata": {
    "heading_collapsed": "true",
    "tags": []
   },
   "source": [
    "# Demo Grid & Market & Agents"
   ]
  },
  {
   "cell_type": "markdown",
   "metadata": {},
   "source": [
    "In this demo, we assume the distribution market is faced with a new (incremental) demand at the beginning of each market clearning process. Its job is to dispatch all supply units with how much to supply and how much to get paid.\n",
    "\n",
    "For simplicity, we assume that the source bus (feeder) in the distribution grid provides an electricity price (1.0 for reference) which is exogenously determined (for example, by a transmission grid market).\n",
    "\n",
    "Then, we let an agent represent a load that is willing to sacrifice some consumption (acting like a reserve) and receive a reward for it. If the price accepted is lower than that of the source bus, the market will adjust dispatch accordingly."
   ]
  },
  {
   "cell_type": "code",
   "execution_count": 14,
   "metadata": {},
   "outputs": [],
   "source": [
    "from BaseMarket import BaseMarket\n",
    "\n",
    "class DemoMarket(BaseMarket):\n",
    "    def __init__(self, max_steps=1):\n",
    "        self.max_steps = max_steps\n",
    "        self.reset()\n",
    "\n",
    "    def reset(self):\n",
    "        self.t = -1\n",
    "        self.new_demand = 100\n",
    "        \n",
    "        self.source_price = 1.0\n",
    "        self.source_dispatch = self.new_demand * 1.0\n",
    "        \n",
    "        # To be changed by agent\n",
    "        self.agent_price = 999 # large to represent inelastic\n",
    "        self.agent_capacity = 0.0\n",
    "        self.agent_dispatch = 0.0\n",
    "\n",
    "    def step(self):\n",
    "        if self.agent_capacity > 0.0 and self.agent_price < self.source_price:\n",
    "            self.agent_dispatch = np.minimum(self.agent_capacity, self.new_demand)\n",
    "        else:\n",
    "            self.agent_dispatch = 0.0\n",
    "            \n",
    "        self.source_dispatch = self.new_demand - self.agent_dispatch\n",
    "            \n",
    "market = DemoMarket()"
   ]
  },
  {
   "cell_type": "code",
   "execution_count": 15,
   "metadata": {},
   "outputs": [],
   "source": [
    "class DemoAgentReserveSupply(BaseAgent):\n",
    "\n",
    "    def __init__(self, load=None, minimum_kW=0.0):\n",
    "        if load is None:\n",
    "            raise ValueError('load must be str, not None.')\n",
    "        \n",
    "        self.load = load\n",
    "        self.minimum_kW = minimum_kW\n",
    "        \n",
    "        self.dispatches = []\n",
    "        self.kWs = []\n",
    "    \n",
    "    def set_market_actions(self):\n",
    "        kW = self.get_load()\n",
    "        \n",
    "        # Do not be willing to sacrifice too much\n",
    "        if kW < self.minimum_kW:\n",
    "            self.env.market.agent_capacity = 0.0\n",
    "        else:\n",
    "            self.env.market.agent_capacity = kW - self.minimum_kW\n",
    "        \n",
    "        # Random offer\n",
    "        self.env.market.agent_price = 1.1 + 0.2 * np.random.randn()\n",
    "    \n",
    "    def get_load(self):\n",
    "        kW = self.env.grid.dss.get_load_df().loc[self.load, 'kW']\n",
    "        return kW\n",
    "    \n",
    "    def increment_load(self, delta_kW=0.0):\n",
    "        kW = self.get_load()\n",
    "        \n",
    "        new_kW = kW + delta_kW\n",
    "        \n",
    "        self.env.grid.dss.edit(f'Load.{self.load}', kW=new_kW)\n",
    "    \n",
    "    def set_grid_actions(self):\n",
    "        kW_drop = self.env.market.agent_dispatch\n",
    "        \n",
    "        self.increment_load(kW_drop)\n",
    "        \n",
    "        self.dispatches.append(kW_drop)\n",
    "        self.kWs.append(self.get_load())\n",
    "    \n",
    "agent_market = DemoAgentReserveSupply(load='s844', minimum_kW=1300)"
   ]
  },
  {
   "cell_type": "code",
   "execution_count": 16,
   "metadata": {},
   "outputs": [
    {
     "name": "stderr",
     "output_type": "stream",
     "text": [
      "100%|█████████████████████████████████████████████████████████████████████████████████| 96/96 [00:00<00:00, 130.07it/s]\n"
     ]
    }
   ],
   "source": [
    "agents = [agent_grid, agent_market]\n",
    "\n",
    "grid = DemoGrid(dss_path, xy_path, load_std=0.01)\n",
    "\n",
    "market = DemoMarket()\n",
    "\n",
    "env = Environment(grid=grid, market=market, agents=agents)\n",
    "\n",
    "env.reset()\n",
    "for t in env.iterate():\n",
    "    pass"
   ]
  },
  {
   "cell_type": "code",
   "execution_count": 17,
   "metadata": {},
   "outputs": [
    {
     "data": {
      "image/png": "[encoded data removed]",
      "text/plain": [
       "<Figure size 432x288 with 1 Axes>"
      ]
     },
     "metadata": {
      "needs_background": "light"
     },
     "output_type": "display_data"
    }
   ],
   "source": [
    "plt.plot(agent_market.dispatches, label=\"Market's dispatch Signal\")\n",
    "plt.plot(agent_market.kWs, label=\"Agent's Actual Load\")\n",
    "plt.hlines(agent_market.minimum_kW, *plt.xlim(), color='r', label=\"Agent's Minimum Acceptable Load\")\n",
    "plt.legend();"
   ]
  }
 ],
 "metadata": {
  "kernelspec": {
   "display_name": "Python 3 (ipykernel)",
   "language": "python",
   "name": "python3"
  },
  "language_info": {
   "codemirror_mode": {
    "name": "ipython",
    "version": 3
   },
   "file_extension": ".py",
   "mimetype": "text/x-python",
   "name": "python",
   "nbconvert_exporter": "python",
   "pygments_lexer": "ipython3",
   "version": "3.7.8"
  },
  "toc-autonumbering": false,
  "toc-showtags": false
 },
 "nbformat": 4,
 "nbformat_minor": 4
}
